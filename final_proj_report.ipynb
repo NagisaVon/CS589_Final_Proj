{
 "cells": [
  {
   "cell_type": "markdown",
   "metadata": {},
   "source": [
    "# CS589 Final Project Report\n",
    "\n",
    "### Written by Chang Liu and Haochen(Harry) Wang\n",
    "### May 4, 2022"
   ]
  },
  {
   "cell_type": "markdown",
   "metadata": {},
   "source": [
    "## The Hand-Written Digits Recognition Dataset\n",
    "\n",
    "### Random Forest \n",
    "\n",
    "![](output_fig/digits_tune_n_tree.png)\n",
    "\n",
    "Picked n = 20  \n",
    "accuracy: 0.948  precision: 0.954  recall: 0.948  f1: 0.947\n",
    "\n",
    "![](output_fig/digits_tune_max_depth.png)\n",
    "\n",
    "Picked max_depth = 12 \n",
    "accuracy: 0.944  precision: 0.949  recall: 0.944  f1: 0.943\n",
    "\n",
    "![](output_fig/digits_tune_bootstrap_percentage.png)\n",
    "\n",
    "Picked bootstrap_percentage = 0.8  \n",
    "accuracy: 0.933  precision: 0.941  recall: 0.933  f1: 0.932\n",
    "\n",
    "### kNN \n",
    "\n",
    "![](output_fig/digits_tune_knn_k.png)\n",
    "Picked knn_k = 3 \n",
    "accuracy: 0.978  precision: 0.980  recall: 0.978  f1: 0.978\n",
    "\n",
    "### NN\n",
    "\n",
    "![](nnfig/digitsc_nn_2.png)\n",
    "![](nnfig/digitsc_nn_4.png)\n",
    "\n",
    "\n",
    "\n",
    "## The Titanic Dataset\n",
    "![](output_fig/titanic_tune_n_tree.png)\n",
    "![](nnfig/titanic_nn_4.png)\n",
    "![](nnfig/titanic_nn_8.png)\n",
    "\n",
    "\n",
    "## The Loan Eligibility Prediction Dataset\n",
    "![](output_fig/loan_tune_n_tree.png)\n",
    "![](nnfig/loan_nn_4.png)\n",
    "![](nnfig/loan_nn_8.png)\n",
    "![](nnfig/loan_nn_88.png)\n",
    "![](nnfig/loan_nn_888.png)\n",
    "\n",
    "## The Oxford Parkinson’s Disease Detection Dataset\n",
    "\n",
    "![](output_fig/parkinsons_tune_knn_k.png)\n",
    "![](output_fig/parkinsons_tune_n_tree.png)\n",
    "![](nnfig/parkinson_nn_4.png)\n",
    "![](nnfig/parkinson_nn_44.png)\n",
    "![](nnfig/parkinson_nn_8.png)\n",
    "![](nnfig/parkinson_nn_88.png)\n",
    "\n",
    "\n"
   ]
  },
  {
   "cell_type": "markdown",
   "metadata": {},
   "source": [
    "## All\n",
    "\n",
    "![](nnfig/all.png)"
   ]
  }
 ],
 "metadata": {
  "language_info": {
   "name": "python"
  },
  "orig_nbformat": 4
 },
 "nbformat": 4,
 "nbformat_minor": 2
}
