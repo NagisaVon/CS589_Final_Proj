{
 "cells": [
  {
   "cell_type": "markdown",
   "metadata": {},
   "source": [
    "# CS589 Final Project Report\n",
    "\n",
    "### Written by Chang Liu and Haochen(Harry) Wang\n",
    "### May 4, 2022"
   ]
  },
  {
   "cell_type": "markdown",
   "metadata": {},
   "source": [
    "## The Hand-Written Digits Recognition Dataset\n",
    "\n",
    "### Random Forest \n",
    "\n",
    "![](output_fig/digits_tune_n_tree.png)\n",
    "\n",
    "Picked n = 20  \n",
    "accuracy: 0.948  precision: 0.954  recall: 0.948  f1: 0.947\n",
    "\n",
    "![](output_fig/digits_tune_max_depth.png)\n",
    "\n",
    "Picked max_depth = 12 \n",
    "accuracy: 0.944  precision: 0.949  recall: 0.944  f1: 0.943\n",
    "\n",
    "![](output_fig/digits_tune_bootstrap_percentage.png)\n",
    "\n",
    "Picked bootstrap_percentage = 0.8  \n",
    "accuracy: 0.933  precision: 0.941  recall: 0.933  f1: 0.932\n",
    "\n"
   ]
  }
 ],
 "metadata": {
  "language_info": {
   "name": "python"
  },
  "orig_nbformat": 4
 },
 "nbformat": 4,
 "nbformat_minor": 2
}
