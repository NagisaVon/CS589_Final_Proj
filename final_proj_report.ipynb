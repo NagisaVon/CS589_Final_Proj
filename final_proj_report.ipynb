{
 "cells": [
  {
   "cell_type": "markdown",
   "metadata": {},
   "source": [
    "# CS589 Final Project Report\n",
    "\n",
    "### Written by Chang Liu and Haochen(Harry) Wang\n",
    "### May 4, 2022"
   ]
  },
  {
   "cell_type": "markdown",
   "metadata": {},
   "source": [
    "## The Hand-Written Digits Recognition Dataset\n",
    "\n",
    "### Selected Algorithm \n",
    "\n",
    "### \n"
   ]
  }
 ],
 "metadata": {
  "language_info": {
   "name": "python"
  },
  "orig_nbformat": 4
 },
 "nbformat": 4,
 "nbformat_minor": 2
}
